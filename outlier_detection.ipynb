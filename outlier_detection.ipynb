{
 "cells": [
  {
   "cell_type": "code",
   "execution_count": 62,
   "id": "11bf701d",
   "metadata": {},
   "outputs": [],
   "source": [
    "data = [1,2,3,1,3,4,2,4,6,4,103,4,6,10,24]"
   ]
  },
  {
   "cell_type": "markdown",
   "id": "14e4198a",
   "metadata": {},
   "source": [
    "# Outlier detection using IQR"
   ]
  },
  {
   "cell_type": "code",
   "execution_count": 63,
   "id": "5d0d5043",
   "metadata": {},
   "outputs": [],
   "source": [
    "import numpy as np\n",
    "import seaborn as sns"
   ]
  },
  {
   "cell_type": "code",
   "execution_count": 64,
   "id": "d24259b4",
   "metadata": {},
   "outputs": [],
   "source": [
    "def detect_outlier(data):\n",
    "    data = sorted(data)\n",
    "#     n = len(data)\n",
    "    \n",
    "#     # Find the indices for Q1 and Q3\n",
    "#     Q1_index = int(n * 0.25)\n",
    "#     Q3_index = int(n * 0.75)\n",
    "    \n",
    "#     # Compute Q1 and Q3\n",
    "#     Q1 = data[Q1_index]\n",
    "#     Q3 = data[Q3_index]\n",
    "    Q1,Q3=np.percentile(data,[25,75])\n",
    "    \n",
    "    IQR = Q3 - Q1\n",
    "    lower_bench = Q1 - 1.5 * IQR\n",
    "    upper_bench = Q3 + 1.5 * IQR\n",
    "    \n",
    "    outliers = []\n",
    "    for i in data:\n",
    "        if i < lower_bench or i > upper_bench:\n",
    "            outliers.append(i)\n",
    "    \n",
    "    return outliers\n",
    "\n",
    "\n"
   ]
  },
  {
   "cell_type": "code",
   "execution_count": 70,
   "id": "a2165c23",
   "metadata": {},
   "outputs": [
    {
     "name": "stdout",
     "output_type": "stream",
     "text": [
      "3 6\n"
     ]
    }
   ],
   "source": [
    "n =len(data)+1\n",
    "Q1_index = int(n * 0.25)\n",
    "Q3_index = int(n * 0.75)\n",
    "    \n",
    "#     # Compute Q1 and Q3#     \n",
    "Q1 = data[Q1_index]\n",
    "Q3 = data[Q3_index]\n",
    "print(Q1,Q3)"
   ]
  },
  {
   "cell_type": "code",
   "execution_count": 71,
   "id": "8076a691",
   "metadata": {},
   "outputs": [
    {
     "name": "stdout",
     "output_type": "stream",
     "text": [
      "2 6\n"
     ]
    }
   ],
   "source": [
    "Q1,Q3=np.percentile(data,[25,75])\n",
    "print(int(Q1),int(Q3))"
   ]
  },
  {
   "cell_type": "code",
   "execution_count": 66,
   "id": "38c500e4",
   "metadata": {},
   "outputs": [
    {
     "data": {
      "text/plain": [
       "[24, 103]"
      ]
     },
     "execution_count": 66,
     "metadata": {},
     "output_type": "execute_result"
    }
   ],
   "source": [
    "detect_outlier(data)"
   ]
  },
  {
   "cell_type": "markdown",
   "id": "c6e771db",
   "metadata": {},
   "source": [
    "# Outlier Detection through Z_score"
   ]
  },
  {
   "cell_type": "code",
   "execution_count": null,
   "id": "f2f7579c",
   "metadata": {},
   "outputs": [],
   "source": []
  },
  {
   "cell_type": "code",
   "execution_count": 51,
   "id": "a40fcc95",
   "metadata": {},
   "outputs": [],
   "source": [
    "data = [1,2,3,1,3,4,2,4,6,4,103,4,6,10,24]"
   ]
  },
  {
   "cell_type": "code",
   "execution_count": 52,
   "id": "c27449c2",
   "metadata": {},
   "outputs": [],
   "source": [
    "# outlier=[]\n",
    "import numpy as np\n",
    "\n",
    "def detect_outlier(data):\n",
    "    threshold = 3  # for 3 standard deviations\n",
    "    mean = np.mean(data)\n",
    "    std = np.std(data)\n",
    "    outliers = []\n",
    "    \n",
    "    for i in data:\n",
    "        z_score = (i - mean) / std\n",
    "        if np.abs(z_score) > threshold:\n",
    "            outliers.append(i)\n",
    "    \n",
    "    return outliers\n",
    "\n"
   ]
  },
  {
   "cell_type": "code",
   "execution_count": 53,
   "id": "6e013fd8",
   "metadata": {},
   "outputs": [
    {
     "data": {
      "text/plain": [
       "[103]"
      ]
     },
     "execution_count": 53,
     "metadata": {},
     "output_type": "execute_result"
    }
   ],
   "source": [
    "detect_outlier(data)"
   ]
  },
  {
   "cell_type": "code",
   "execution_count": 45,
   "id": "5dae7cc1",
   "metadata": {},
   "outputs": [
    {
     "name": "stderr",
     "output_type": "stream",
     "text": [
      "C:\\Users\\Himanjit Choudhury\\anaconda3\\lib\\site-packages\\seaborn\\_decorators.py:36: FutureWarning: Pass the following variable as a keyword arg: x. From version 0.12, the only valid positional argument will be `data`, and passing other arguments without an explicit keyword will result in an error or misinterpretation.\n",
      "  warnings.warn(\n"
     ]
    },
    {
     "data": {
      "text/plain": [
       "<AxesSubplot:>"
      ]
     },
     "execution_count": 45,
     "metadata": {},
     "output_type": "execute_result"
    },
    {
     "data": {
      "image/png": "[encoded data removed]",
      "text/plain": [
       "<Figure size 640x480 with 1 Axes>"
      ]
     },
     "metadata": {},
     "output_type": "display_data"
    }
   ],
   "source": [
    "sns.boxplot(data)"
   ]
  },
  {
   "cell_type": "markdown",
   "id": "7fb66bea",
   "metadata": {},
   "source": [
    "# Hence 24 and 103 are the outlier in our data "
   ]
  },
  {
   "cell_type": "code",
   "execution_count": null,
   "id": "1cb91b4f",
   "metadata": {},
   "outputs": [],
   "source": []
  }
 ],
 "metadata": {
  "kernelspec": {
   "display_name": "Python 3 (ipykernel)",
   "language": "python",
   "name": "python3"
  },
  "language_info": {
   "codemirror_mode": {
    "name": "ipython",
    "version": 3
   },
   "file_extension": ".py",
   "mimetype": "text/x-python",
   "name": "python",
   "nbconvert_exporter": "python",
   "pygments_lexer": "ipython3",
   "version": "3.9.13"
  }
 },
 "nbformat": 4,
 "nbformat_minor": 5
}
